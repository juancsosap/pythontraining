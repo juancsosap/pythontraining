{
 "cells": [
  {
   "cell_type": "markdown",
   "metadata": {},
   "source": [
    "# Importing Packages"
   ]
  },
  {
   "cell_type": "code",
   "execution_count": 103,
   "metadata": {},
   "outputs": [],
   "source": [
    "import numpy as np\n",
    "import keras\n",
    "\n",
    "import sklearn.preprocessing as sklpre \n",
    "import sklearn.metrics as sklmet\n",
    "\n",
    "import matplotlib.pyplot as plt\n",
    "\n",
    "np.set_printoptions(threshold=20)"
   ]
  },
  {
   "cell_type": "markdown",
   "metadata": {},
   "source": [
    "# Preprocessing Data"
   ]
  },
  {
   "cell_type": "code",
   "execution_count": 46,
   "metadata": {},
   "outputs": [],
   "source": [
    "# Sample Data Loader\n",
    "def getData(quantity, min_val, max_val, label):\n",
    "    features = np.random.randint(min_val, max_val, (quantity, 1))\n",
    "    labels = np.full((quantity, 1), label)\n",
    "    return np.hstack((features, labels))\n",
    "\n",
    "def getSamples(quantities, min_vals, max_vals, labels):\n",
    "    data = np.empty((0, 2))\n",
    "    for q, minv, maxv, label in zip(quantities, min_vals, max_vals, labels):\n",
    "        data = np.vstack((data, getData(q, minv, maxv, label)))\n",
    "    return data"
   ]
  },
  {
   "cell_type": "markdown",
   "metadata": {},
   "source": [
    "The Example data have the following characteristics\n",
    "\n",
    "* An experimental drug was tested on individuals from ages 13 to 100.\n",
    "* The trial had 2100 participants. Half were under 65 years old, and half was over 65 years old.\n",
    "* 95 % of patientes 65 or older experienced side effects\n",
    "* 95 % of patientes under 65 experienced no side effects."
   ]
  },
  {
   "cell_type": "code",
   "execution_count": 74,
   "metadata": {},
   "outputs": [
    {
     "name": "stdout",
     "output_type": "stream",
     "text": [
      "(2100, 2) (420, 2)\n"
     ]
    }
   ],
   "source": [
    "# Generating Sample Data\n",
    "train_data = getSamples([1000, 1000, 50, 50], [13, 65, 13, 65], [64, 100, 64, 100], [0, 1, 1, 0])\n",
    "test_data = getSamples([200, 200, 10, 10], [13, 65, 13, 65], [64, 100, 64, 100], [0, 1, 1, 0])\n",
    "\n",
    "print(train_data.shape, test_data.shape)"
   ]
  },
  {
   "cell_type": "code",
   "execution_count": 80,
   "metadata": {},
   "outputs": [
    {
     "name": "stdout",
     "output_type": "stream",
     "text": [
      "[0.18604651 0.        ] [0.55813953 0.        ]\n"
     ]
    }
   ],
   "source": [
    "# Scaling Data\n",
    "scaler = sklpre.MinMaxScaler(feature_range=(0, 1))\n",
    "train_data[:, [0]] = scaler.fit_transform(train_data[:, [0]])\n",
    "test_data[:, [0]] = scaler.fit_transform(test_data[:, [0]])\n",
    "print(train_data[0], test_data[0])"
   ]
  },
  {
   "cell_type": "markdown",
   "metadata": {},
   "source": [
    "# Generating Model"
   ]
  },
  {
   "cell_type": "code",
   "execution_count": 66,
   "metadata": {},
   "outputs": [
    {
     "name": "stdout",
     "output_type": "stream",
     "text": [
      "Model: \"Example Model\"\n",
      "_________________________________________________________________\n",
      "Layer (type)                 Output Shape              Param #   \n",
      "=================================================================\n",
      "dense_19 (Dense)             (None, 16)                32        \n",
      "_________________________________________________________________\n",
      "dense_20 (Dense)             (None, 32)                544       \n",
      "_________________________________________________________________\n",
      "dense_21 (Dense)             (None, 2)                 66        \n",
      "=================================================================\n",
      "Total params: 642\n",
      "Trainable params: 642\n",
      "Non-trainable params: 0\n",
      "_________________________________________________________________\n"
     ]
    }
   ],
   "source": [
    "layers = [\n",
    "    keras.layers.core.Dense(16, input_shape=(1,), activation='relu'),\n",
    "    keras.layers.core.Dense(32, activation='relu'),\n",
    "    keras.layers.core.Dense(2, activation='softmax'),\n",
    "]\n",
    "model = keras.models.Sequential(layers, name='Example Model')\n",
    "model.summary()"
   ]
  },
  {
   "cell_type": "code",
   "execution_count": 67,
   "metadata": {},
   "outputs": [],
   "source": [
    "# Compile Model\n",
    "optimizer = keras.optimizers.Adam(learning_rate=0.0001)\n",
    "loss = 'sparse_categorical_crossentropy'\n",
    "metrics = ['accuracy']\n",
    "\n",
    "model.compile(optimizer, loss=loss, metrics=metrics)"
   ]
  },
  {
   "cell_type": "code",
   "execution_count": 81,
   "metadata": {},
   "outputs": [
    {
     "name": "stdout",
     "output_type": "stream",
     "text": [
      "Epoch 1/20\n",
      " - 0s - loss: 0.2772 - accuracy: 0.9295\n",
      "Epoch 2/20\n",
      " - 0s - loss: 0.2737 - accuracy: 0.9290\n",
      "Epoch 3/20\n",
      " - 0s - loss: 0.2708 - accuracy: 0.9281\n",
      "Epoch 4/20\n",
      " - 0s - loss: 0.2681 - accuracy: 0.9286\n",
      "Epoch 5/20\n",
      " - 0s - loss: 0.2660 - accuracy: 0.9290\n",
      "Epoch 6/20\n",
      " - 0s - loss: 0.2641 - accuracy: 0.9286\n",
      "Epoch 7/20\n",
      " - 0s - loss: 0.2625 - accuracy: 0.9295\n",
      "Epoch 8/20\n",
      " - 0s - loss: 0.2610 - accuracy: 0.9343\n",
      "Epoch 9/20\n",
      " - 0s - loss: 0.2597 - accuracy: 0.9319\n",
      "Epoch 10/20\n",
      " - 0s - loss: 0.2587 - accuracy: 0.9310\n",
      "Epoch 11/20\n",
      " - 0s - loss: 0.2578 - accuracy: 0.9324\n",
      "Epoch 12/20\n",
      " - 0s - loss: 0.2568 - accuracy: 0.9338\n",
      "Epoch 13/20\n",
      " - 0s - loss: 0.2561 - accuracy: 0.9343\n",
      "Epoch 14/20\n",
      " - 0s - loss: 0.2552 - accuracy: 0.9329\n",
      "Epoch 15/20\n",
      " - 0s - loss: 0.2546 - accuracy: 0.9329\n",
      "Epoch 16/20\n",
      " - 0s - loss: 0.2541 - accuracy: 0.9343\n",
      "Epoch 17/20\n",
      " - 0s - loss: 0.2535 - accuracy: 0.9343\n",
      "Epoch 18/20\n",
      " - 0s - loss: 0.2528 - accuracy: 0.9343\n",
      "Epoch 19/20\n",
      " - 0s - loss: 0.2524 - accuracy: 0.9343\n",
      "Epoch 20/20\n",
      " - 0s - loss: 0.2520 - accuracy: 0.9343\n"
     ]
    },
    {
     "data": {
      "text/plain": [
       "<keras.callbacks.callbacks.History at 0x7fa138082be0>"
      ]
     },
     "execution_count": 81,
     "metadata": {},
     "output_type": "execute_result"
    }
   ],
   "source": [
    "# Train the Model\n",
    "train_features = train_data[:, [0]]\n",
    "train_labels = train_data[:, [1]]\n",
    "model.fit(train_features, train_labels, batch_size=10, epochs=20, shuffle=True, verbose=2)"
   ]
  },
  {
   "cell_type": "markdown",
   "metadata": {},
   "source": [
    "# Test Model"
   ]
  },
  {
   "cell_type": "code",
   "execution_count": 91,
   "metadata": {},
   "outputs": [
    {
     "name": "stdout",
     "output_type": "stream",
     "text": [
      "[[52.173553  47.826447 ]\n",
      " [98.00121    1.9987822]\n",
      " [98.075874   1.9241309]\n",
      " ...\n",
      " [ 3.6380794 96.36192  ]\n",
      " [ 4.9283204 95.07168  ]\n",
      " [22.256292  77.743706 ]]\n",
      "\n",
      "[[0]\n",
      " [0]\n",
      " [0]\n",
      " ...\n",
      " [1]\n",
      " [1]\n",
      " [1]]\n"
     ]
    }
   ],
   "source": [
    "# Generate Prediction Data\n",
    "test_features = test_data[:, [0]]\n",
    "\n",
    "pred_probs = model.predict(test_features, batch_size=10, verbose=0)\n",
    "print(pred_probs * 100, end='\\n\\n')\n",
    "\n",
    "pred_labels = model.predict_classes(test_features, batch_size=10, verbose=0)\n",
    "print(pred_labels[:, np.newaxis])"
   ]
  },
  {
   "cell_type": "markdown",
   "metadata": {},
   "source": [
    "# Validate Predictions"
   ]
  },
  {
   "cell_type": "code",
   "execution_count": 95,
   "metadata": {},
   "outputs": [
    {
     "name": "stdout",
     "output_type": "stream",
     "text": [
      "[[190  20]\n",
      " [ 10 200]]\n"
     ]
    }
   ],
   "source": [
    "cm = sklmet.confusion_matrix(test_data[:, [1]], pred_labels)\n",
    "print(cm)"
   ]
  },
  {
   "cell_type": "code",
   "execution_count": 119,
   "metadata": {},
   "outputs": [
    {
     "data": {
      "image/png": "[encoded data removed]",
      "text/plain": [
       "<Figure size 432x288 with 2 Axes>"
      ]
     },
     "metadata": {
      "needs_background": "light"
     },
     "output_type": "display_data"
    }
   ],
   "source": [
    "def plot_confusion_matrix(matrix, classes):\n",
    "    plt.imshow(matrix, cmap=plt.cm.Blues)\n",
    "    plt.title('Confusion Matrix')\n",
    "    plt.colorbar()\n",
    "    \n",
    "    tick_marks = range(len(classes))\n",
    "    plt.xticks(tick_marks, classes, rotation=45)\n",
    "    plt.yticks(tick_marks, classes)\n",
    "    \n",
    "    for r in range(matrix.shape[0]):\n",
    "        for c in range(matrix.shape[1]):\n",
    "            color = 'white' if matrix[r, c] > matrix.max() * 2/3 else 'black'\n",
    "            plt.text(c, r, matrix[r, c], horizontalalignment='center', color=color)\n",
    "    \n",
    "    plt.tight_layout()\n",
    "    plt.ylabel('True Label')\n",
    "    plt.xlabel('Predicted Label')\n",
    "\n",
    "labels = ['No Side Effects', 'Had Side Effects']\n",
    "plot_confusion_matrix(cm, labels)"
   ]
  },
  {
   "cell_type": "code",
   "execution_count": null,
   "metadata": {},
   "outputs": [],
   "source": []
  }
 ],
 "metadata": {
  "kernelspec": {
   "display_name": "Python 3",
   "language": "python",
   "name": "python3"
  },
  "language_info": {
   "codemirror_mode": {
    "name": "ipython",
    "version": 3
   },
   "file_extension": ".py",
   "mimetype": "text/x-python",
   "name": "python",
   "nbconvert_exporter": "python",
   "pygments_lexer": "ipython3",
   "version": "3.7.3"
  }
 },
 "nbformat": 4,
 "nbformat_minor": 2
}
