{
 "cells": [
  {
   "cell_type": "code",
   "execution_count": 2,
   "metadata": {},
   "outputs": [],
   "source": [
    "import numpy as np\n",
    "import tensorflow as tf"
   ]
  },
  {
   "cell_type": "code",
   "execution_count": 32,
   "metadata": {},
   "outputs": [],
   "source": [
    "data = np.arange(0, 255, 32)\n",
    "# tf.int8, tf.int16, tf.int32, tf.int64\n",
    "tensor1 = tf.constant(data, tf.int8)\n",
    "# tf.uint8, tf.uint16, tf.uint32, tf.uint64\n",
    "tensor2 = tf.constant(data, tf.uint8)\n",
    "# tf.float16, tf.float32, tf.float64\n",
    "tensor3 = tf.constant(data, tf.float16)\n",
    "# tf.bool\n",
    "tensor4 = tf.constant(data, tf.bool)"
   ]
  },
  {
   "cell_type": "code",
   "execution_count": 33,
   "metadata": {},
   "outputs": [
    {
     "name": "stdout",
     "output_type": "stream",
     "text": [
      "[   0   32   64   96 -128  -96  -64  -32]\n",
      "[  0  32  64  96 128 160 192 224]\n",
      "[  0.  32.  64.  96. 128. 160. 192. 224.]\n",
      "[False  True  True  True  True  True  True  True]\n"
     ]
    }
   ],
   "source": [
    "with tf.Session() as tfs:\n",
    "    print(tfs.run(tensor1))\n",
    "    print(tfs.run(tensor2))\n",
    "    print(tfs.run(tensor3))\n",
    "    print(tfs.run(tensor4))"
   ]
  }
 ],
 "metadata": {
  "kernelspec": {
   "display_name": "Python 3",
   "language": "python",
   "name": "python3"
  },
  "language_info": {
   "codemirror_mode": {
    "name": "ipython",
    "version": 3
   },
   "file_extension": ".py",
   "mimetype": "text/x-python",
   "name": "python",
   "nbconvert_exporter": "python",
   "pygments_lexer": "ipython3",
   "version": "3.7.3"
  }
 },
 "nbformat": 4,
 "nbformat_minor": 2
}
