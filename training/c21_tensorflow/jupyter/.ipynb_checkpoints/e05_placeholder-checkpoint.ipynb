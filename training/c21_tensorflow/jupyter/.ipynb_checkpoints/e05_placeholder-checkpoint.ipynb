{
 "cells": [
  {
   "cell_type": "code",
   "execution_count": 2,
   "metadata": {},
   "outputs": [],
   "source": [
    "import warnings\n",
    "warnings.filterwarnings('ignore',category=FutureWarning)\n",
    "\n",
    "import numpy as np\n",
    "import tensorflow as tf"
   ]
  },
  {
   "cell_type": "code",
   "execution_count": 5,
   "metadata": {},
   "outputs": [],
   "source": [
    "tensor0 = tf.placeholder(tf.bool, name='t0')\n",
    "tensor1 = tf.placeholder(tf.string)\n",
    "tensor2 = tf.placeholder(tf.int32)\n",
    "tensor3 = tf.placeholder(tf.float64)\n",
    "tensor4 = tf.placeholder(tf.complex128)"
   ]
  },
  {
   "cell_type": "code",
   "execution_count": 10,
   "metadata": {},
   "outputs": [
    {
     "name": "stdout",
     "output_type": "stream",
     "text": [
      "[ True False  True]\n",
      "\n",
      "['AR' 'CL' 'CO']\n",
      "\n",
      "[1 2 3 4 5 6]\n",
      "\n",
      "[1.5 2.3 3.6 4.7]\n",
      "\n",
      "[5.+3.j 4.+2.j 9.+3.j]\n",
      "\n"
     ]
    }
   ],
   "source": [
    "# create a session to run the tensors\n",
    "with tf.Session() as sess:\n",
    "    print(sess.run(tensor0, feed_dict={tensor0:[True, False, True]}), end='\\n\\n')\n",
    "    print(sess.run(tensor1, feed_dict={tensor1:['AR', 'CL', 'CO']}), end='\\n\\n')\n",
    "    print(sess.run(tensor2, feed_dict={tensor2:[1, 2, 3, 4, 5, 6]}), end='\\n\\n')\n",
    "    print(sess.run(tensor3, feed_dict={tensor3:[1.5, 2.3, 3.6, 4.7]}), end='\\n\\n')\n",
    "    print(sess.run(tensor4, feed_dict={tensor4:[5+3j, 4+2j, 9+3j]}), end='\\n\\n')"
   ]
  },
  {
   "cell_type": "code",
   "execution_count": 14,
   "metadata": {},
   "outputs": [
    {
     "name": "stdout",
     "output_type": "stream",
     "text": [
      "[False False  True]\n",
      "\n",
      "['AU' 'UK' 'US']\n",
      "\n",
      "[ 1  3  5  7  9 11]\n",
      "\n",
      "[ 1.  3.  5.  7.  9. 11.]\n",
      "\n",
      "[ 1.+0.j  3.+0.j  5.+0.j  7.+0.j  9.+0.j 11.+0.j]\n",
      "\n"
     ]
    }
   ],
   "source": [
    "# create a session to run the tensors\n",
    "with tf.Session() as sess:\n",
    "    print(sess.run(tensor0, {tensor0:[False, False, True]}), end='\\n\\n')\n",
    "    print(sess.run(tensor1, {tensor1:['AU', 'UK', 'US']}), end='\\n\\n')\n",
    "    print(sess.run(tensor2, {tensor2:[1, 3, 5, 7, 9, 11]}), end='\\n\\n')\n",
    "    print(sess.run(tensor3, {tensor3:[1, 3, 5, 7, 9, 11]}), end='\\n\\n')\n",
    "    print(sess.run(tensor4, {tensor4:[1, 3, 5, 7, 9, 11]}), end='\\n\\n')"
   ]
  }
 ],
 "metadata": {
  "kernelspec": {
   "display_name": "Python 3",
   "language": "python",
   "name": "python3"
  },
  "language_info": {
   "codemirror_mode": {
    "name": "ipython",
    "version": 3
   },
   "file_extension": ".py",
   "mimetype": "text/x-python",
   "name": "python",
   "nbconvert_exporter": "python",
   "pygments_lexer": "ipython3",
   "version": "3.7.3"
  }
 },
 "nbformat": 4,
 "nbformat_minor": 2
}
