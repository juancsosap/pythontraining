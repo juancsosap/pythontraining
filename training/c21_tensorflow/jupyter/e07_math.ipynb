{
 "cells": [
  {
   "cell_type": "code",
   "execution_count": 1,
   "metadata": {},
   "outputs": [],
   "source": [
    "import warnings\n",
    "warnings.filterwarnings('ignore',category=FutureWarning)\n",
    "\n",
    "import numpy as np\n",
    "import tensorflow as tf"
   ]
  },
  {
   "cell_type": "code",
   "execution_count": 2,
   "metadata": {},
   "outputs": [],
   "source": [
    "# Defining Constant Tensors\n",
    "tensorA = tf.constant([[i+3*j for i in range(1, 4)] for j in range(3)])\n",
    "tensorB = tf.constant([[i+3*j for i in range(3, 0, -1)] for j in range(3)])"
   ]
  },
  {
   "cell_type": "code",
   "execution_count": 4,
   "metadata": {},
   "outputs": [
    {
     "name": "stdout",
     "output_type": "stream",
     "text": [
      "[[1 2 3]\n",
      " [4 5 6]\n",
      " [7 8 9]]\n",
      "\n",
      "[[3 2 1]\n",
      " [6 5 4]\n",
      " [9 8 7]]\n",
      "\n"
     ]
    }
   ],
   "source": [
    "# create a session to run the tensors\n",
    "with tf.Session() as sess:\n",
    "    print(sess.run(tensorA), end='\\n\\n')\n",
    "    print(sess.run(tensorB), end='\\n\\n')"
   ]
  },
  {
   "cell_type": "code",
   "execution_count": 5,
   "metadata": {},
   "outputs": [],
   "source": [
    "tensor_add = tensorA + tensorB\n",
    "tensor_sub = tensorA - tensorB\n",
    "tensor_mul = tensorA * tensorB\n",
    "tensor_div = tensorA / tensorB\n",
    "tensor_mod = tensorA % tensorB"
   ]
  },
  {
   "cell_type": "code",
   "execution_count": 6,
   "metadata": {},
   "outputs": [
    {
     "name": "stdout",
     "output_type": "stream",
     "text": [
      "[[ 4  4  4]\n",
      " [10 10 10]\n",
      " [16 16 16]]\n",
      "\n",
      "[[-2  0  2]\n",
      " [-2  0  2]\n",
      " [-2  0  2]]\n",
      "\n",
      "[[ 3  4  3]\n",
      " [24 25 24]\n",
      " [63 64 63]]\n",
      "\n",
      "[[0.33333333 1.         3.        ]\n",
      " [0.66666667 1.         1.5       ]\n",
      " [0.77777778 1.         1.28571429]]\n",
      "\n",
      "[[1 0 0]\n",
      " [4 0 2]\n",
      " [7 0 2]]\n",
      "\n"
     ]
    }
   ],
   "source": [
    "# create a session to run the tensors\n",
    "with tf.Session() as sess:\n",
    "    print(sess.run(tensor_add), end='\\n\\n')\n",
    "    print(sess.run(tensor_sub), end='\\n\\n')\n",
    "    print(sess.run(tensor_mul), end='\\n\\n')\n",
    "    print(sess.run(tensor_div), end='\\n\\n')\n",
    "    print(sess.run(tensor_mod), end='\\n\\n')"
   ]
  },
  {
   "cell_type": "code",
   "execution_count": 7,
   "metadata": {},
   "outputs": [],
   "source": [
    "# https://www.tensorflow.org/api_docs/python/tf/math\n",
    "tensor_add = tf.math.add(tensorA, tensorB)\n",
    "tensor_sub = tf.math.subtract(tensorA, tensorB)\n",
    "tensor_mul = tf.math.multiply(tensorA, tensorB)\n",
    "tensor_div = tf.math.divide(tensorA, tensorB)\n",
    "tensor_mod = tf.math.mod(tensorA, tensorB)"
   ]
  },
  {
   "cell_type": "code",
   "execution_count": 8,
   "metadata": {},
   "outputs": [
    {
     "name": "stdout",
     "output_type": "stream",
     "text": [
      "[[ 4  4  4]\n",
      " [10 10 10]\n",
      " [16 16 16]]\n",
      "\n",
      "[[-2  0  2]\n",
      " [-2  0  2]\n",
      " [-2  0  2]]\n",
      "\n",
      "[[ 3  4  3]\n",
      " [24 25 24]\n",
      " [63 64 63]]\n",
      "\n",
      "[[0.33333333 1.         3.        ]\n",
      " [0.66666667 1.         1.5       ]\n",
      " [0.77777778 1.         1.28571429]]\n",
      "\n",
      "[[1 0 0]\n",
      " [4 0 2]\n",
      " [7 0 2]]\n",
      "\n"
     ]
    }
   ],
   "source": [
    "# create a session to run the tensors\n",
    "with tf.Session() as sess:\n",
    "    print(sess.run(tensor_add), end='\\n\\n')\n",
    "    print(sess.run(tensor_sub), end='\\n\\n')\n",
    "    print(sess.run(tensor_mul), end='\\n\\n')\n",
    "    print(sess.run(tensor_div), end='\\n\\n')\n",
    "    print(sess.run(tensor_mod), end='\\n\\n')"
   ]
  }
 ],
 "metadata": {
  "kernelspec": {
   "display_name": "Python 3",
   "language": "python",
   "name": "python3"
  },
  "language_info": {
   "codemirror_mode": {
    "name": "ipython",
    "version": 3
   },
   "file_extension": ".py",
   "mimetype": "text/x-python",
   "name": "python",
   "nbconvert_exporter": "python",
   "pygments_lexer": "ipython3",
   "version": "3.7.3"
  }
 },
 "nbformat": 4,
 "nbformat_minor": 2
}
