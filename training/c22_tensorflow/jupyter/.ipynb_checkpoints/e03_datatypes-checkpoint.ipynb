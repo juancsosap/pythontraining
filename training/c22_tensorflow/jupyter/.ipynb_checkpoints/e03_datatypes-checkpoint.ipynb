{
 "cells": [
  {
   "cell_type": "code",
   "execution_count": 8,
   "metadata": {},
   "outputs": [],
   "source": [
    "import warnings\n",
    "warnings.filterwarnings('ignore',category=FutureWarning)\n",
    "\n",
    "import numpy as np\n",
    "import tensorflow as tf"
   ]
  },
  {
   "cell_type": "code",
   "execution_count": 9,
   "metadata": {},
   "outputs": [],
   "source": [
    "data = np.arange(0, 255, 32)\n",
    "# tf.int8, tf.int16, tf.int32, tf.int64\n",
    "tensor0 = tf.constant(5)\n",
    "tensor1 = tf.constant(data, tf.int8)\n",
    "# tf.uint8, tf.uint16, tf.uint32, tf.uint64\n",
    "tensor2 = tf.constant(data, tf.uint8)\n",
    "\n",
    "# tf.float16, tf.float32, tf.float64\n",
    "tensor3 = tf.constant(5.5)\n",
    "tensor4 = tf.constant(data, tf.float16)\n",
    "\n",
    "# tf.complex64, tf.complex128\n",
    "tensor5 = tf.constant(5.5j)\n",
    "tensor6 = tf.constant(data, tf.complex64)\n",
    "\n",
    "# tf.bool\n",
    "tensor7 = tf.constant(False)\n",
    "tensor8 = tf.constant(data, tf.bool)"
   ]
  },
  {
   "cell_type": "code",
   "execution_count": 10,
   "metadata": {},
   "outputs": [
    {
     "name": "stdout",
     "output_type": "stream",
     "text": [
      "5\n",
      "[   0   32   64   96 -128  -96  -64  -32]\n",
      "[  0  32  64  96 128 160 192 224]\n",
      "5.5\n",
      "[  0.  32.  64.  96. 128. 160. 192. 224.]\n",
      "5.5j\n",
      "[  0.+0.j  32.+0.j  64.+0.j  96.+0.j 128.+0.j 160.+0.j 192.+0.j 224.+0.j]\n",
      "False\n",
      "[False  True  True  True  True  True  True  True]\n"
     ]
    }
   ],
   "source": [
    "with tf.Session() as sess:\n",
    "    print(sess.run(tensor0))\n",
    "    print(sess.run(tensor1))\n",
    "    print(sess.run(tensor2))\n",
    "    \n",
    "    print()\n",
    "    \n",
    "    print(sess.run(tensor3))\n",
    "    print(sess.run(tensor4))\n",
    "    \n",
    "    print()\n",
    "    \n",
    "    print(sess.run(tensor5))\n",
    "    print(sess.run(tensor6))\n",
    "    \n",
    "    print()\n",
    "    \n",
    "    print(sess.run(tensor7))\n",
    "    print(sess.run(tensor8))"
   ]
  },
  {
   "cell_type": "code",
   "execution_count": 6,
   "metadata": {},
   "outputs": [],
   "source": [
    "tensor6 = tf.cast(tensor4, dtype=tf.int8)"
   ]
  },
  {
   "cell_type": "code",
   "execution_count": 7,
   "metadata": {},
   "outputs": [
    {
     "name": "stdout",
     "output_type": "stream",
     "text": [
      "[   0   32   64   96 -128  -96  -64  -32]\n"
     ]
    }
   ],
   "source": [
    "with tf.Session() as sess:\n",
    "    print(sess.run(tensor6))"
   ]
  }
 ],
 "metadata": {
  "kernelspec": {
   "display_name": "Python 3",
   "language": "python",
   "name": "python3"
  },
  "language_info": {
   "codemirror_mode": {
    "name": "ipython",
    "version": 3
   },
   "file_extension": ".py",
   "mimetype": "text/x-python",
   "name": "python",
   "nbconvert_exporter": "python",
   "pygments_lexer": "ipython3",
   "version": "3.7.3"
  }
 },
 "nbformat": 4,
 "nbformat_minor": 2
}
