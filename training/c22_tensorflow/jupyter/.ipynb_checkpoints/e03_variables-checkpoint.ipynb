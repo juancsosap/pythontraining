{
 "cells": [
  {
   "cell_type": "code",
   "execution_count": 78,
   "metadata": {},
   "outputs": [],
   "source": [
    "import numpy as np\n",
    "import tensorflow as tf"
   ]
  },
  {
   "cell_type": "code",
   "execution_count": 93,
   "metadata": {},
   "outputs": [],
   "source": [
    "# Scalar Tensor (Rank #0)\n",
    "tensor1 = tf.Variable(True, tf.bool)\n",
    "tensor2 = tf.Variable('Hello', tf.string)\n",
    "\n",
    "# Vector Tensor (Rank #1)\n",
    "tensor3 = tf.Variable([1, 2, 3, 4], tf.int32)\n",
    "\n",
    "# Matrix Tensor (Rank #2)\n",
    "tensor4 = tf.Variable([[1.1, 2.1], [3.1, 4.4]], tf.float64)\n",
    "\n",
    "# Higher Dimessional Tensor\n",
    "tensor5 = tf.Variable([[[1, 2], [3, 4]], [[5, 6], [7, 8]]], tf.complex128)"
   ]
  },
  {
   "cell_type": "code",
   "execution_count": 80,
   "metadata": {},
   "outputs": [
    {
     "name": "stdout",
     "output_type": "stream",
     "text": [
      "Rank #0 :  () <dtype: 'bool_ref'>\n",
      "Rank #1 :  (4,) <dtype: 'int32_ref'>\n",
      "Rank #2 :  (2, 2) <dtype: 'float32_ref'>\n",
      "Rank #3 :  (2, 2, 2) <dtype: 'int32_ref'>\n"
     ]
    }
   ],
   "source": [
    "print('Rank #0 : ', tensor1.shape, tensor1.dtype)\n",
    "print('Rank #1 : ', tensor3.shape, tensor3.dtype)\n",
    "print('Rank #2 : ', tensor4.shape, tensor4.dtype)\n",
    "print('Rank #3 : ', tensor5.shape, tensor5.dtype)"
   ]
  },
  {
   "cell_type": "code",
   "execution_count": 98,
   "metadata": {},
   "outputs": [
    {
     "name": "stdout",
     "output_type": "stream",
     "text": [
      "True\n",
      "\n",
      "b'Hello'\n",
      "\n",
      "[1 2 3 4]\n",
      "\n",
      "[[1.1 2.1]\n",
      " [3.1 4.4]]\n",
      "\n",
      "[[[1 2]\n",
      "  [3 4]]\n",
      "\n",
      " [[5 6]\n",
      "  [7 8]]]\n",
      "\n"
     ]
    }
   ],
   "source": [
    "# initialize the variables\n",
    "init_op = tf.global_variables_initializer()\n",
    "\n",
    "# crate a session to run the tensors\n",
    "with tf.Session() as tfs:\n",
    "    tfs.run(init_op) #execute init_op\n",
    "    \n",
    "    print(tfs.run(tensor1), end='\\n\\n')\n",
    "    print(tfs.run(tensor2), end='\\n\\n')\n",
    "    print(tfs.run(tensor3), end='\\n\\n')\n",
    "    print(tfs.run(tensor4), end='\\n\\n')\n",
    "    print(tfs.run(tensor5), end='\\n\\n')"
   ]
  }
 ],
 "metadata": {
  "kernelspec": {
   "display_name": "Python 3",
   "language": "python",
   "name": "python3"
  },
  "language_info": {
   "codemirror_mode": {
    "name": "ipython",
    "version": 3
   },
   "file_extension": ".py",
   "mimetype": "text/x-python",
   "name": "python",
   "nbconvert_exporter": "python",
   "pygments_lexer": "ipython3",
   "version": "3.7.3"
  }
 },
 "nbformat": 4,
 "nbformat_minor": 2
}
