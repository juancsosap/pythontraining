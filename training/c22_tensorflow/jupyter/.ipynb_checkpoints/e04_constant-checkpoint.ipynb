{
 "cells": [
  {
   "cell_type": "code",
   "execution_count": 1,
   "metadata": {},
   "outputs": [],
   "source": [
    "import warnings\n",
    "warnings.filterwarnings('ignore',category=FutureWarning)\n",
    "\n",
    "import numpy as np\n",
    "import tensorflow as tf"
   ]
  },
  {
   "cell_type": "code",
   "execution_count": 2,
   "metadata": {},
   "outputs": [],
   "source": [
    "# Scalar Tensor (Rank #0)\n",
    "tensor0 = tf.constant(5)\n",
    "tensor1 = tf.constant(True, tf.bool)\n",
    "tensor2 = tf.constant('Hello', tf.string)\n",
    "\n",
    "# Vector Tensor (Rank #1)\n",
    "tensor3 = tf.constant([1, 2, 3, 4], tf.int32)\n",
    "\n",
    "# Matrix Tensor (Rank #2)\n",
    "tensor4 = tf.constant([[1.1, 2.1], [3.1, 4.4]], tf.float64)\n",
    "\n",
    "# Higher Dimessional Tensor\n",
    "tensor5 = tf.constant([[[1, 2], [3, 4]], [[5, 6], [7, 8]]], tf.complex128)"
   ]
  },
  {
   "cell_type": "code",
   "execution_count": 3,
   "metadata": {},
   "outputs": [
    {
     "name": "stdout",
     "output_type": "stream",
     "text": [
      "Rank #0 :  () <dtype: 'int32'>\n",
      "Rank #0 :  () <dtype: 'bool'>\n",
      "Rank #0 :  () <dtype: 'string'>\n",
      "Rank #1 :  (4,) <dtype: 'int32'>\n",
      "Rank #2 :  (2, 2) <dtype: 'float64'>\n",
      "Rank #3 :  (2, 2, 2) <dtype: 'complex128'>\n"
     ]
    }
   ],
   "source": [
    "print('Rank #0 : ', tensor0.shape, tensor0.dtype)\n",
    "print('Rank #0 : ', tensor1.shape, tensor1.dtype)\n",
    "print('Rank #0 : ', tensor2.shape, tensor2.dtype)\n",
    "print('Rank #1 : ', tensor3.shape, tensor3.dtype)\n",
    "print('Rank #2 : ', tensor4.shape, tensor4.dtype)\n",
    "print('Rank #3 : ', tensor5.shape, tensor5.dtype)"
   ]
  },
  {
   "cell_type": "code",
   "execution_count": 5,
   "metadata": {},
   "outputs": [
    {
     "name": "stdout",
     "output_type": "stream",
     "text": [
      "5\n",
      "\n",
      "True\n",
      "\n",
      "b'Hello'\n",
      "\n",
      "[1 2 3 4]\n",
      "\n",
      "[[1.1 2.1]\n",
      " [3.1 4.4]]\n",
      "\n",
      "[[[1.+0.j 2.+0.j]\n",
      "  [3.+0.j 4.+0.j]]\n",
      "\n",
      " [[5.+0.j 6.+0.j]\n",
      "  [7.+0.j 8.+0.j]]]\n",
      "\n"
     ]
    }
   ],
   "source": [
    "# create a session to run the tensors\n",
    "with tf.Session() as sess:\n",
    "    print(sess.run(tensor0), end='\\n\\n')\n",
    "    print(sess.run(tensor1), end='\\n\\n')\n",
    "    print(sess.run(tensor2), end='\\n\\n')\n",
    "    print(sess.run(tensor3), end='\\n\\n')\n",
    "    print(sess.run(tensor4), end='\\n\\n')\n",
    "    print(sess.run(tensor5), end='\\n\\n')"
   ]
  }
 ],
 "metadata": {
  "kernelspec": {
   "display_name": "Python 3",
   "language": "python",
   "name": "python3"
  },
  "language_info": {
   "codemirror_mode": {
    "name": "ipython",
    "version": 3
   },
   "file_extension": ".py",
   "mimetype": "text/x-python",
   "name": "python",
   "nbconvert_exporter": "python",
   "pygments_lexer": "ipython3",
   "version": "3.7.3"
  }
 },
 "nbformat": 4,
 "nbformat_minor": 2
}
