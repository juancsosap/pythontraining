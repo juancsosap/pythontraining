{
 "cells": [
  {
   "cell_type": "code",
   "execution_count": 7,
   "metadata": {},
   "outputs": [],
   "source": [
    "# Import the packages required\n",
    "import numpy as np\n",
    "import matplotlib.pyplot as plt\n",
    "from sklearn import datasets, metrics\n",
    "from sklearn.model_selection import train_test_split\n",
    "from sklearn.tree import DecisionTreeClassifier"
   ]
  },
  {
   "cell_type": "code",
   "execution_count": 8,
   "metadata": {},
   "outputs": [
    {
     "name": "stdout",
     "output_type": "stream",
     "text": [
      "<class 'sklearn.utils.Bunch'>\n"
     ]
    }
   ],
   "source": [
    "# load the data from the datasets available in scikit learn\n",
    "dataset = datasets.load_iris()\n",
    "print(type(dataset))"
   ]
  },
  {
   "cell_type": "code",
   "execution_count": 36,
   "metadata": {},
   "outputs": [],
   "source": [
    "# Define the algorithm to be used\n",
    "alg = DecisionTreeClassifier(max_depth=2)"
   ]
  },
  {
   "cell_type": "code",
   "execution_count": 37,
   "metadata": {},
   "outputs": [
    {
     "name": "stdout",
     "output_type": "stream",
     "text": [
      "(150, 4) (150,)\n",
      "[5.1 3.5 1.4 0.2] 0\n"
     ]
    }
   ],
   "source": [
    "# select the x and y data\n",
    "x = dataset.data\n",
    "y = dataset.target\n",
    "print(x.shape, y.shape)\n",
    "print(x[0], y[0])"
   ]
  },
  {
   "cell_type": "code",
   "execution_count": 59,
   "metadata": {},
   "outputs": [
    {
     "name": "stdout",
     "output_type": "stream",
     "text": [
      "(120, 4) (120,)\n",
      "(30, 4) (30,)\n"
     ]
    }
   ],
   "source": [
    "# Split the dataset in training data and testing data\n",
    "x_train, x_test, y_train, y_test = train_test_split(x, y, test_size=0.2)\n",
    "print(x_train.shape, y_train.shape)\n",
    "print(x_test.shape, y_test.shape)"
   ]
  },
  {
   "cell_type": "code",
   "execution_count": 60,
   "metadata": {},
   "outputs": [
    {
     "data": {
      "text/plain": [
       "DecisionTreeClassifier(class_weight=None, criterion='gini', max_depth=None,\n",
       "                       max_features=None, max_leaf_nodes=None,\n",
       "                       min_impurity_decrease=0.0, min_impurity_split=None,\n",
       "                       min_samples_leaf=1, min_samples_split=2,\n",
       "                       min_weight_fraction_leaf=0.0, presort=False,\n",
       "                       random_state=None, splitter='best')"
      ]
     },
     "execution_count": 60,
     "metadata": {},
     "output_type": "execute_result"
    }
   ],
   "source": [
    "# Fit the model using the algorithm\n",
    "alg.fit(x_train, y_train)"
   ]
  },
  {
   "cell_type": "code",
   "execution_count": 61,
   "metadata": {},
   "outputs": [
    {
     "name": "stdout",
     "output_type": "stream",
     "text": [
      "(30,)\n",
      "[1 0 0 1 2 0 0 0 2 2]\n",
      "[2 0 0 1 1 0 0 0 2 2]\n"
     ]
    }
   ],
   "source": [
    "# Generate a prediction over the test data using the model\n",
    "y_pred = alg.predict(x_test)\n",
    "print(y_pred.shape)\n",
    "print(y_pred[:10])\n",
    "print(y_test[:10])"
   ]
  },
  {
   "cell_type": "code",
   "execution_count": 62,
   "metadata": {},
   "outputs": [
    {
     "data": {
      "image/png": "[encoded data removed]",
      "text/plain": [
       "<Figure size 720x180 with 4 Axes>"
      ]
     },
     "metadata": {
      "needs_background": "light"
     },
     "output_type": "display_data"
    }
   ],
   "source": [
    "# Graph the test data with the model line\n",
    "legends = dataset.feature_names\n",
    "categories = dataset.target_names\n",
    "num_graphs = len(legends)\n",
    "\n",
    "figure, plots = plt.subplots(1, num_graphs, figsize=(2.5*num_graphs, 2.5))\n",
    "figure.suptitle('Dessition Tree Classification', y=1.02)\n",
    "\n",
    "y_cat = [categories[i] for i in y]\n",
    "y_pred_cat = [categories[i] for i in y_pred]\n",
    "\n",
    "for g in range(num_graphs):\n",
    "    data_test = sorted(zip(x_test[:,g], y_pred_cat), key = lambda i : i[0])\n",
    "\n",
    "    plots[g].scatter(x[:,g], y_cat)\n",
    "    plots[g].plot([i[0] for i in data_test], [i[1] for i in data_test], color='red', linewidth=3)\n",
    "    plots[g].set_xlabel(legends[g])\n",
    "    if g != 0 : plots[g].set_yticklabels([])\n",
    "    \n",
    "plt.tight_layout(pad=1)\n",
    "plt.show()"
   ]
  },
  {
   "cell_type": "code",
   "execution_count": 63,
   "metadata": {},
   "outputs": [
    {
     "name": "stdout",
     "output_type": "stream",
     "text": [
      "[[10  0  0]\n",
      " [ 0 11  1]\n",
      " [ 0  4  4]]\n"
     ]
    }
   ],
   "source": [
    "# Validate, using the confusion matrix\n",
    "matrix = metrics.confusion_matrix(y_test, y_pred)\n",
    "print(matrix)"
   ]
  },
  {
   "cell_type": "code",
   "execution_count": 64,
   "metadata": {},
   "outputs": [
    {
     "name": "stdout",
     "output_type": "stream",
     "text": [
      "certainty: 100.0 %\n"
     ]
    }
   ],
   "source": [
    "# Verify the model error based on R²\n",
    "print('certainty:', alg.score(x_train, y_train) * 100, '%')"
   ]
  },
  {
   "cell_type": "code",
   "execution_count": 65,
   "metadata": {},
   "outputs": [
    {
     "name": "stdout",
     "output_type": "stream",
     "text": [
      "(120,)\n",
      "[1 0 0 0 2 2 2 2 2 1]\n",
      "[1 0 0 0 2 2 2 2 2 1]\n"
     ]
    }
   ],
   "source": [
    "# Generate a prediction over the train data using the model\n",
    "y_pred = alg.predict(x_train)\n",
    "print(y_pred.shape)\n",
    "print(y_pred[:10])\n",
    "print(y_train[:10])"
   ]
  },
  {
   "cell_type": "code",
   "execution_count": 66,
   "metadata": {},
   "outputs": [
    {
     "data": {
      "image/png": "[encoded data removed]",
      "text/plain": [
       "<Figure size 720x180 with 4 Axes>"
      ]
     },
     "metadata": {
      "needs_background": "light"
     },
     "output_type": "display_data"
    }
   ],
   "source": [
    "# Graph the test data with the model line\n",
    "legends = dataset.feature_names\n",
    "categories = dataset.target_names\n",
    "num_graphs = len(legends)\n",
    "\n",
    "figure, plots = plt.subplots(1, num_graphs, figsize=(2.5*num_graphs, 2.5))\n",
    "figure.suptitle('Dessition Tree Classification', y=1.02)\n",
    "\n",
    "y_cat = [categories[i] for i in y]\n",
    "y_pred_cat = [categories[i] for i in y_pred]\n",
    "\n",
    "for g in range(num_graphs):\n",
    "    data_test = sorted(zip(x_train[:,g], y_pred_cat), key = lambda i : i[0])\n",
    "\n",
    "    plots[g].scatter(x[:,g], y_cat)\n",
    "    plots[g].plot([i[0] for i in data_test], [i[1] for i in data_test], color='red', linewidth=3)\n",
    "    plots[g].set_xlabel(legends[g])\n",
    "    if g != 0 : plots[g].set_yticklabels([])\n",
    "    \n",
    "plt.tight_layout(pad=1)\n",
    "plt.show()"
   ]
  },
  {
   "cell_type": "code",
   "execution_count": 67,
   "metadata": {},
   "outputs": [
    {
     "name": "stdout",
     "output_type": "stream",
     "text": [
      "[[40  0  0]\n",
      " [ 0 38  0]\n",
      " [ 0  0 42]]\n"
     ]
    }
   ],
   "source": [
    "# Validate, using the confusion matrix\n",
    "matrix = metrics.confusion_matrix(y_train, y_pred)\n",
    "print(matrix)"
   ]
  },
  {
   "cell_type": "code",
   "execution_count": 68,
   "metadata": {},
   "outputs": [
    {
     "name": "stdout",
     "output_type": "stream",
     "text": [
      "certainty: 100.0 %\n"
     ]
    }
   ],
   "source": [
    "# Verify the model error based on R²\n",
    "print('certainty:', alg.score(x_train, y_train) * 100, '%')"
   ]
  }
 ],
 "metadata": {
  "kernelspec": {
   "display_name": "Python 3",
   "language": "python",
   "name": "python3"
  },
  "language_info": {
   "codemirror_mode": {
    "name": "ipython",
    "version": 3
   },
   "file_extension": ".py",
   "mimetype": "text/x-python",
   "name": "python",
   "nbconvert_exporter": "python",
   "pygments_lexer": "ipython3",
   "version": "3.7.3"
  }
 },
 "nbformat": 4,
 "nbformat_minor": 2
}
