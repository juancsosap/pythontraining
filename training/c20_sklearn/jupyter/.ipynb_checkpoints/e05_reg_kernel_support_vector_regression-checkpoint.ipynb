{
 "cells": [
  {
   "cell_type": "code",
   "execution_count": null,
   "metadata": {},
   "outputs": [],
   "source": [
    "# Import the packages required\n",
    "import numpy as np\n",
    "import matplotlib.pyplot as plt\n",
    "from sklearn import datasets\n",
    "from sklearn.model_selection import train_test_split\n",
    "from sklearn.svm import SVR"
   ]
  },
  {
   "cell_type": "code",
   "execution_count": null,
   "metadata": {},
   "outputs": [],
   "source": [
    "# load the data from the datasets available in scikit learn\n",
    "dataset = datasets.load_boston()\n",
    "print(type(dataset))"
   ]
  },
  {
   "cell_type": "code",
   "execution_count": null,
   "metadata": {},
   "outputs": [],
   "source": [
    "# print the data structure information\n",
    "print(dataset.keys())\n",
    "print(dataset.data.shape)\n",
    "print(dataset.feature_names)"
   ]
  },
  {
   "cell_type": "code",
   "execution_count": null,
   "metadata": {},
   "outputs": [],
   "source": [
    "# select the x and y data\n",
    "x = dataset.data[:, np.newaxis, 5]\n",
    "y = dataset.target\n",
    "print(x.shape, y.shape)\n",
    "print(x[0], y[0])"
   ]
  },
  {
   "cell_type": "code",
   "execution_count": null,
   "metadata": {},
   "outputs": [],
   "source": [
    "# Split the dataset in training data and testing data\n",
    "x_train, x_test, y_train, y_test = train_test_split(x, y, test_size=0.2)\n",
    "print(x_train.shape, y_train.shape)\n",
    "print(x_test.shape, y_test.shape)"
   ]
  },
  {
   "cell_type": "code",
   "execution_count": null,
   "metadata": {},
   "outputs": [],
   "source": [
    "# Define the algorithm to be used, fit the model and generate a prediction\n",
    "alg = SVR(kernel='linear', C=1.0, epsilon=0.2)\n",
    "alg.fit(x_train, y_train)\n",
    "y_pred = alg.predict(x_test)\n",
    "print(y_pred.shape)\n",
    "\n",
    "# Verify the model error based on R²\n",
    "print('certainty:', alg.score(x_train, y_train) * 100, '%')\n",
    "print('certainty:', alg.score(x_test, y_test) * 100, '%')"
   ]
  },
  {
   "cell_type": "code",
   "execution_count": null,
   "metadata": {},
   "outputs": [],
   "source": [
    "# Graph the test data with the model line\n",
    "legend = dataset.feature_names[5]\n",
    "data_test = sorted(zip(x_test, y_pred), key = lambda i : i[0])\n",
    "plt.scatter(x, y)\n",
    "plt.plot([i[0] for i in data_test], [i[1] for i in data_test], color='red', linewidth=3)\n",
    "plt.title('Support Vector Regression')\n",
    "plt.xlabel(legend)\n",
    "plt.ylabel('Mean Value')\n",
    "plt.show()"
   ]
  },
  {
   "cell_type": "code",
   "execution_count": null,
   "metadata": {},
   "outputs": [],
   "source": [
    "# Define the algorithm to be used, fit the model and generate a prediction\n",
    "alg = SVR(kernel='poly', C=1.0, epsilon=0.2, gamma='auto')\n",
    "alg.fit(x_train, y_train)\n",
    "y_pred = alg.predict(x_test)\n",
    "print(y_pred.shape)\n",
    "\n",
    "# Verify the model error based on R²\n",
    "print('certainty:', alg.score(x_train, y_train) * 100, '%')\n",
    "print('certainty:', alg.score(x_test, y_test) * 100, '%')"
   ]
  },
  {
   "cell_type": "code",
   "execution_count": null,
   "metadata": {},
   "outputs": [],
   "source": [
    "# Graph the test data with the model line\n",
    "legend = dataset.feature_names[5]\n",
    "data_test = sorted(zip(x_test, y_pred), key = lambda i : i[0])\n",
    "plt.scatter(x, y)\n",
    "plt.plot([i[0] for i in data_test], [i[1] for i in data_test], color='red', linewidth=3)\n",
    "plt.title('Support Vector Regression')\n",
    "plt.xlabel(legend)\n",
    "plt.ylabel('Mean Value')\n",
    "plt.show()"
   ]
  },
  {
   "cell_type": "code",
   "execution_count": null,
   "metadata": {},
   "outputs": [],
   "source": [
    "# Define the algorithm to be used, fit the model and generate a prediction\n",
    "alg = SVR(kernel='rbf', C=1.0, epsilon=0.2, gamma='auto')\n",
    "alg.fit(x_train, y_train)\n",
    "y_pred = alg.predict(x_test)\n",
    "print(y_pred.shape)\n",
    "\n",
    "# Verify the model error based on R²\n",
    "print('certainty:', alg.score(x_train, y_train) * 100, '%')\n",
    "print('certainty:', alg.score(x_test, y_test) * 100, '%')"
   ]
  },
  {
   "cell_type": "code",
   "execution_count": null,
   "metadata": {},
   "outputs": [],
   "source": [
    "# Graph the test data with the model line\n",
    "legend = dataset.feature_names[5]\n",
    "data_test = sorted(zip(x_test, y_pred), key = lambda i : i[0])\n",
    "plt.scatter(x, y)\n",
    "plt.plot([i[0] for i in data_test], [i[1] for i in data_test], color='red', linewidth=3)\n",
    "plt.title('Support Vector Regression')\n",
    "plt.xlabel(legend)\n",
    "plt.ylabel('Mean Value')\n",
    "plt.show()"
   ]
  },
  {
   "cell_type": "code",
   "execution_count": null,
   "metadata": {},
   "outputs": [],
   "source": [
    "# Define the algorithm to be used, fit the model and generate a prediction\n",
    "alg = SVR(kernel='sigmoid', C=1.0, epsilon=0.2, gamma='auto')\n",
    "alg.fit(x_train, y_train)\n",
    "y_pred = alg.predict(x_test)\n",
    "print(y_pred.shape)\n",
    "\n",
    "# Verify the model error based on R²\n",
    "print('certainty:', alg.score(x_train, y_train) * 100, '%')\n",
    "print('certainty:', alg.score(x_test, y_test) * 100, '%')"
   ]
  },
  {
   "cell_type": "code",
   "execution_count": null,
   "metadata": {},
   "outputs": [],
   "source": [
    "# Graph the test data with the model line\n",
    "legend = dataset.feature_names[5]\n",
    "data_test = sorted(zip(x_test, y_pred), key = lambda i : i[0])\n",
    "plt.scatter(x, y)\n",
    "plt.plot([i[0] for i in data_test], [i[1] for i in data_test], color='red', linewidth=3)\n",
    "plt.title('Support Vector Regression')\n",
    "plt.xlabel(legend)\n",
    "plt.ylabel('Mean Value')\n",
    "plt.show()"
   ]
  }
 ],
 "metadata": {
  "kernelspec": {
   "display_name": "Python 3",
   "language": "python",
   "name": "python3"
  },
  "language_info": {
   "codemirror_mode": {
    "name": "ipython",
    "version": 3
   },
   "file_extension": ".py",
   "mimetype": "text/x-python",
   "name": "python",
   "nbconvert_exporter": "python",
   "pygments_lexer": "ipython3",
   "version": "3.7.3"
  }
 },
 "nbformat": 4,
 "nbformat_minor": 2
}
