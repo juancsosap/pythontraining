{
 "cells": [
  {
   "cell_type": "code",
   "execution_count": null,
   "metadata": {},
   "outputs": [],
   "source": [
    "# Import the packages required\n",
    "from sklearn import datasets\n",
    "from sklearn import linear_model, svm, tree, ensemble, neighbors, neural_network, cluster\n",
    "from sklearn import preprocessing, decomposition"
   ]
  },
  {
   "cell_type": "markdown",
   "metadata": {},
   "source": [
    "## Regression Data"
   ]
  },
  {
   "cell_type": "code",
   "execution_count": null,
   "metadata": {},
   "outputs": [],
   "source": [
    "# load the data from the datasets available in scikit learn\n",
    "dataset = datasets.load_boston()\n",
    "\n",
    "# print the data structure information\n",
    "print('* Dataset Type:',type(dataset))\n",
    "print('* Dataset Content:',dataset.keys())\n",
    "print('* Data Shape:',dataset.data.shape)\n",
    "print('* Feature Names:',dataset.feature_names)\n",
    "print('* Data:',dataset.data[0])\n",
    "print('* Target:',dataset.target[0])\n",
    "print('* Dataset Description:\\n',dataset.DESCR)"
   ]
  },
  {
   "cell_type": "code",
   "execution_count": null,
   "metadata": {},
   "outputs": [],
   "source": [
    "# load the data from the datasets available in scikit learn\n",
    "dataset = datasets.load_diabetes()\n",
    "\n",
    "# print the data structure information\n",
    "print('* Dataset Type:',type(dataset))\n",
    "print('* Dataset Content:',dataset.keys())\n",
    "print('* Data Shape:',dataset.data.shape)\n",
    "print('* Feature Names:',dataset.feature_names)\n",
    "print('* Data:',dataset.data[0])\n",
    "print('* Target:',dataset.target[0])\n",
    "print('* Dataset Description:\\n',dataset.DESCR)"
   ]
  },
  {
   "cell_type": "markdown",
   "metadata": {},
   "source": [
    "## Classification Data"
   ]
  },
  {
   "cell_type": "code",
   "execution_count": null,
   "metadata": {},
   "outputs": [],
   "source": [
    "# load the data from the datasets available in scikit learn\n",
    "dataset = datasets.load_iris()\n",
    "\n",
    "# print the data structure information\n",
    "print('* Dataset Type:',type(dataset))\n",
    "print('* Dataset Content:',dataset.keys())\n",
    "print('* Data Shape:',dataset.data.shape)\n",
    "print('* Feature Names:',dataset.feature_names)\n",
    "print('* Target Names:',dataset.target_names)\n",
    "print('* Data:',dataset.data[0])\n",
    "print('* Target:',dataset.target[0])\n",
    "print('* Dataset Description:\\n',dataset.DESCR)"
   ]
  },
  {
   "cell_type": "code",
   "execution_count": null,
   "metadata": {},
   "outputs": [],
   "source": [
    "# load the data from the datasets available in scikit learn\n",
    "dataset = datasets.load_breast_cancer()\n",
    "\n",
    "# print the data structure information\n",
    "print('* Dataset Type:',type(dataset))\n",
    "print('* Dataset Content:',dataset.keys())\n",
    "print('* Data Shape:',dataset.data.shape)\n",
    "print('* Feature Names:',dataset.feature_names)\n",
    "print('* Target Names:',dataset.target_names)\n",
    "print('* Data:',dataset.data[0])\n",
    "print('* Target:',dataset.target[0])\n",
    "print('* Dataset Description:\\n',dataset.DESCR)"
   ]
  },
  {
   "cell_type": "code",
   "execution_count": null,
   "metadata": {},
   "outputs": [],
   "source": [
    "# load the data from the datasets available in scikit learn\n",
    "dataset = datasets.load_linnerud()\n",
    "\n",
    "# print the data structure information\n",
    "print('* Dataset Type:',type(dataset))\n",
    "print('* Dataset Content:',dataset.keys())\n",
    "print('* Data Shape:',dataset.data.shape)\n",
    "print('* Feature Names:',dataset.feature_names)\n",
    "print('* Target Names:',dataset.target_names)\n",
    "print('* Data:',dataset.data[0])\n",
    "print('* Target:',dataset.target[0])\n",
    "print('* Dataset Description:\\n',dataset.DESCR)"
   ]
  },
  {
   "cell_type": "code",
   "execution_count": null,
   "metadata": {},
   "outputs": [],
   "source": [
    "# load the data from the datasets available in scikit learn\n",
    "dataset = datasets.load_wine()\n",
    "\n",
    "# print the data structure information\n",
    "print('* Dataset Type:',type(dataset))\n",
    "print('* Dataset Content:',dataset.keys())\n",
    "print('* Data Shape:',dataset.data.shape)\n",
    "print('* Feature Names:',dataset.feature_names)\n",
    "print('* Target Names:',dataset.target_names)\n",
    "print('* Data:',dataset.data[0])\n",
    "print('* Target:',dataset.target[0])\n",
    "print('* Dataset Description:\\n',dataset.DESCR)"
   ]
  },
  {
   "cell_type": "markdown",
   "metadata": {},
   "source": [
    "## Image Processing Data"
   ]
  },
  {
   "cell_type": "code",
   "execution_count": null,
   "metadata": {},
   "outputs": [],
   "source": [
    "# load the data from the datasets available in scikit learn\n",
    "dataset = datasets.load_digits()\n",
    "\n",
    "# print the data structure information\n",
    "print('* Dataset Type:',type(dataset))\n",
    "print('* Dataset Content:',dataset.keys())\n",
    "print('* Data Shape:',dataset.data.shape)\n",
    "print('* Target Names:',dataset.target_names)\n",
    "print('* Data:',dataset.data[0])\n",
    "print('* Target:',dataset.target[0])\n",
    "print('* Dataset Description:\\n',dataset.DESCR)"
   ]
  },
  {
   "cell_type": "markdown",
   "metadata": {},
   "source": [
    "## Models"
   ]
  },
  {
   "cell_type": "code",
   "execution_count": null,
   "metadata": {},
   "outputs": [],
   "source": [
    "print([item for item in dir(linear_model) if item[0].isupper()])"
   ]
  },
  {
   "cell_type": "code",
   "execution_count": null,
   "metadata": {},
   "outputs": [],
   "source": [
    "print([item for item in dir(svm) if item[0].isupper()])"
   ]
  },
  {
   "cell_type": "code",
   "execution_count": null,
   "metadata": {},
   "outputs": [],
   "source": [
    "print([item for item in dir(tree) if item[0].isupper()])"
   ]
  },
  {
   "cell_type": "code",
   "execution_count": null,
   "metadata": {},
   "outputs": [],
   "source": [
    "print([item for item in dir(ensemble) if item[0].isupper()])"
   ]
  },
  {
   "cell_type": "code",
   "execution_count": null,
   "metadata": {},
   "outputs": [],
   "source": [
    "print([item for item in dir(neighbors) if item[0].isupper()])"
   ]
  },
  {
   "cell_type": "code",
   "execution_count": null,
   "metadata": {},
   "outputs": [],
   "source": [
    "print([item for item in dir(cluster) if item[0].isupper()])"
   ]
  },
  {
   "cell_type": "code",
   "execution_count": null,
   "metadata": {},
   "outputs": [],
   "source": [
    "print([item for item in dir(neural_network) if item[0].isupper()])"
   ]
  },
  {
   "cell_type": "code",
   "execution_count": null,
   "metadata": {},
   "outputs": [],
   "source": [
    "print([item for item in dir(preprocessing) if item[0].isupper()])"
   ]
  },
  {
   "cell_type": "code",
   "execution_count": null,
   "metadata": {},
   "outputs": [],
   "source": [
    "print([item for item in dir(decomposition) if item[0].isupper()])"
   ]
  }
 ],
 "metadata": {
  "kernelspec": {
   "display_name": "Python 3",
   "language": "python",
   "name": "python3"
  },
  "language_info": {
   "codemirror_mode": {
    "name": "ipython",
    "version": 3
   },
   "file_extension": ".py",
   "mimetype": "text/x-python",
   "name": "python",
   "nbconvert_exporter": "python",
   "pygments_lexer": "ipython3",
   "version": "3.7.3"
  }
 },
 "nbformat": 4,
 "nbformat_minor": 2
}
