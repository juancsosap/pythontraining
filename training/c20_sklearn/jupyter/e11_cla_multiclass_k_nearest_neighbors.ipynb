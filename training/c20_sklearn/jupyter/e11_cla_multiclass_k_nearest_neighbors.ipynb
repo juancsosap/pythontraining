{
 "cells": [
  {
   "cell_type": "code",
   "execution_count": null,
   "metadata": {},
   "outputs": [],
   "source": [
    "# Import the packages required\n",
    "import numpy as np\n",
    "import matplotlib.pyplot as plt\n",
    "from sklearn import datasets, metrics\n",
    "from sklearn.model_selection import train_test_split\n",
    "from sklearn.neighbors import KNeighborsClassifier"
   ]
  },
  {
   "cell_type": "code",
   "execution_count": null,
   "metadata": {},
   "outputs": [],
   "source": [
    "# load the data from the datasets available in scikit learn\n",
    "dataset = datasets.load_iris()\n",
    "print(type(dataset))"
   ]
  },
  {
   "cell_type": "code",
   "execution_count": null,
   "metadata": {},
   "outputs": [],
   "source": [
    "# print the data structure information\n",
    "print(dataset.keys())\n",
    "print(dataset.data.shape)\n",
    "print(dataset.feature_names)\n",
    "print(dataset.target_names)\n",
    "print(dataset.DESCR)"
   ]
  },
  {
   "cell_type": "code",
   "execution_count": null,
   "metadata": {},
   "outputs": [],
   "source": [
    "# select the x and y data\n",
    "x = dataset.data\n",
    "y = dataset.target\n",
    "print(x.shape, y.shape)\n",
    "print(x[0], y[0])"
   ]
  },
  {
   "cell_type": "code",
   "execution_count": null,
   "metadata": {},
   "outputs": [],
   "source": [
    "# plot the information\n",
    "legends = dataset.feature_names\n",
    "categories = dataset.target_names\n",
    "num_graphs = len(legends)\n",
    "\n",
    "figure, plots = plt.subplots(1, num_graphs, figsize=(2.5*num_graphs, 2.5))\n",
    "figure.suptitle('K-Nearest Neighbors', y=1.02)\n",
    "\n",
    "y_cat = [categories[i] for i in y]\n",
    "\n",
    "for g in range(num_graphs):\n",
    "    plots[g].scatter(x[:,g], y_cat)\n",
    "    plots[g].set_xlabel(legends[g])\n",
    "    if g != 0 : plots[g].set_yticklabels([])\n",
    "\n",
    "plt.tight_layout(pad=1)\n",
    "plt.show()"
   ]
  },
  {
   "cell_type": "code",
   "execution_count": null,
   "metadata": {},
   "outputs": [],
   "source": [
    "# Split the dataset in training data and testing data\n",
    "x_train, x_test, y_train, y_test = train_test_split(x, y, test_size=0.2)\n",
    "print(x_train.shape, y_train.shape)\n",
    "print(x_test.shape, y_test.shape)"
   ]
  },
  {
   "cell_type": "code",
   "execution_count": null,
   "metadata": {},
   "outputs": [],
   "source": [
    "# Define the algorithm to be used, fit the model\n",
    "alg = KNeighborsClassifier(n_neighbors = 5, metric = 'minkowski', p = 2)\n",
    "alg.fit(x_train, y_train)"
   ]
  },
  {
   "cell_type": "code",
   "execution_count": null,
   "metadata": {},
   "outputs": [],
   "source": [
    "# Generate a prediction over the test data using the model\n",
    "y_pred = alg.predict(x_test)\n",
    "print(y_pred.shape)\n",
    "print(y_pred[:10])"
   ]
  },
  {
   "cell_type": "code",
   "execution_count": null,
   "metadata": {},
   "outputs": [],
   "source": [
    "# Graph the test data with the model line\n",
    "figure, plots = plt.subplots(1, num_graphs, figsize=(2.5*num_graphs, 2.5))\n",
    "figure.suptitle('K-Nearest Neighbors', y=1.02)\n",
    "\n",
    "y_pred_cat = [categories[i] for i in y_pred]\n",
    "\n",
    "for g in range(num_graphs):\n",
    "    data_test = sorted(zip(x_test[:,g], y_pred_cat), key = lambda i : i[0])\n",
    "\n",
    "    plots[g].scatter(x[:,g], y_cat)\n",
    "    plots[g].plot([i[0] for i in data_test], [i[1] for i in data_test], color='red', linewidth=3)\n",
    "    plots[g].set_xlabel(legends[g])\n",
    "    if g != 0 : plots[g].set_yticklabels([])\n",
    "    \n",
    "plt.tight_layout(pad=1)\n",
    "plt.show()"
   ]
  },
  {
   "cell_type": "code",
   "execution_count": null,
   "metadata": {},
   "outputs": [],
   "source": [
    "# Validate, using the confusion matrix\n",
    "matrix = metrics.confusion_matrix(y_test, y_pred)\n",
    "print(matrix)"
   ]
  },
  {
   "cell_type": "code",
   "execution_count": null,
   "metadata": {},
   "outputs": [],
   "source": [
    "# Verify the model error based on R²\n",
    "print('certainty:', alg.score(x_train, y_train) * 100, '%')\n",
    "print('certainty:', alg.score(x_test, y_test) * 100, '%')"
   ]
  }
 ],
 "metadata": {
  "kernelspec": {
   "display_name": "Python 3",
   "language": "python",
   "name": "python3"
  },
  "language_info": {
   "codemirror_mode": {
    "name": "ipython",
    "version": 3
   },
   "file_extension": ".py",
   "mimetype": "text/x-python",
   "name": "python",
   "nbconvert_exporter": "python",
   "pygments_lexer": "ipython3",
   "version": "3.7.3"
  }
 },
 "nbformat": 4,
 "nbformat_minor": 2
}
